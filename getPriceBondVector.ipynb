{
  "nbformat": 4,
  "nbformat_minor": 0,
  "metadata": {
    "colab": {
      "provenance": [],
      "authorship_tag": "ABX9TyPflsQZMGY33eHgvC51bPSr",
      "include_colab_link": true
    },
    "kernelspec": {
      "name": "python3",
      "display_name": "Python 3"
    },
    "language_info": {
      "name": "python"
    }
  },
  "cells": [
    {
      "cell_type": "markdown",
      "metadata": {
        "id": "view-in-github",
        "colab_type": "text"
      },
      "source": [
        "<a href=\"https://colab.research.google.com/github/tleitchColumbia/C4RM/blob/main/getPriceBondVector.ipynb\" target=\"_parent\"><img src=\"https://colab.research.google.com/assets/colab-badge.svg\" alt=\"Open In Colab\"/></a>"
      ]
    },
    {
      "cell_type": "code",
      "execution_count": 1,
      "metadata": {
        "id": "YGYoAE5nB8YN",
        "outputId": "442c6b9b-6d0a-4af9-8f69-8c6a833720dd",
        "colab": {
          "base_uri": "https://localhost:8080/"
        }
      },
      "outputs": [
        {
          "output_type": "execute_result",
          "data": {
            "text/plain": [
              "0"
            ]
          },
          "metadata": {},
          "execution_count": 1
        }
      ],
      "source": [
        "#!/usr/bin/env python3\n",
        "# -*- coding: utf-8 -*-\n",
        "\"\"\"\n",
        "Created on Tue Jun 11 21:18:56 2024\n",
        "\n",
        "@author: tleitch\n",
        "\"\"\"\n",
        "import numpy as np\n",
        "\n",
        "def getBondPriceVector(y, face, couponRate, m, ppy=1):\n",
        "    df=1/(1+y/ppy)\n",
        "    bondPrice=0\n",
        "    cpn=couponRate*face/ppy\n",
        "\n",
        "\n",
        "\n",
        "    return(bondPrice)\n",
        "\n",
        "\n",
        "# Test values\n",
        "\n",
        "y = 0.03\n",
        "face = 2000000\n",
        "couponRate = 0.04\n",
        "m = 10\n",
        "ppy = 1\n",
        "ppy = 2\n",
        "#<no ppy value passed>\n",
        "\n",
        "getBondPriceVector(y, face, couponRate, m)"
      ]
    },
    {
      "cell_type": "code",
      "source": [
        "m=10\n",
        "years=np.arange(1,m+1)\n",
        "years\n",
        "df=1/(1+.03)\n",
        "dfs=df**years\n",
        "dfs\n",
        "\n",
        "cf=dfs*.04*2000000\n",
        "price=sum(cf)+dfs[-1]*2000000\n",
        "price"
      ],
      "metadata": {
        "id": "eAc9QImQCnCV",
        "outputId": "969d9c96-4ea8-424d-fbce-e43af8111ecc",
        "colab": {
          "base_uri": "https://localhost:8080/"
        }
      },
      "execution_count": 8,
      "outputs": [
        {
          "output_type": "execute_result",
          "data": {
            "text/plain": [
              "2170604.056735517"
            ]
          },
          "metadata": {},
          "execution_count": 8
        }
      ]
    }
  ]
}