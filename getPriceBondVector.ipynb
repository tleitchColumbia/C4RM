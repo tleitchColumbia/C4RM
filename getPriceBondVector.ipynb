{
  "nbformat": 4,
  "nbformat_minor": 0,
  "metadata": {
    "colab": {
      "provenance": [],
      "authorship_tag": "ABX9TyNkku4ONBKhvxu1Gu9h/XUY",
      "include_colab_link": true
    },
    "kernelspec": {
      "name": "python3",
      "display_name": "Python 3"
    },
    "language_info": {
      "name": "python"
    }
  },
  "cells": [
    {
      "cell_type": "markdown",
      "metadata": {
        "id": "view-in-github",
        "colab_type": "text"
      },
      "source": [
        "<a href=\"https://colab.research.google.com/github/tleitchColumbia/C4RM/blob/main/getPriceBondVector.ipynb\" target=\"_parent\"><img src=\"https://colab.research.google.com/assets/colab-badge.svg\" alt=\"Open In Colab\"/></a>"
      ]
    },
    {
      "cell_type": "code",
      "execution_count": null,
      "metadata": {
        "id": "YGYoAE5nB8YN"
      },
      "outputs": [],
      "source": [
        "#!/usr/bin/env python3\n",
        "# -*- coding: utf-8 -*-\n",
        "\"\"\"\n",
        "Created on Tue Jun 11 21:18:56 2024\n",
        "\n",
        "@author: tleitch\n",
        "\"\"\"\n",
        "import numpy as np\n",
        "\n",
        "def getBondPrice(y, face, couponRate, m, ppy=1):\n",
        "    df=1/(1+y/ppy)\n",
        "    bondPrice=0\n",
        "    cpn=couponRate*face/ppy\n",
        "\n",
        "    return(bondPrice)\n",
        "\n",
        "\n",
        "# Test values\n",
        "\n",
        "y = 0.03\n",
        "face = 2000000\n",
        "couponRate = 0.04\n",
        "m = 10\n",
        "ppy = 1\n",
        "ppy = 2\n",
        "#<no ppy value passed>\n",
        "\n",
        "getBondPrice(y, face, couponRate, m)"
      ]
    }
  ]
}