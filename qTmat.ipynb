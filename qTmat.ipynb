{
  "nbformat": 4,
  "nbformat_minor": 0,
  "metadata": {
    "colab": {
      "provenance": [],
      "authorship_tag": "ABX9TyMxPz2rZhGf+F20/B4IHHd1",
      "include_colab_link": true
    },
    "kernelspec": {
      "name": "python3",
      "display_name": "Python 3"
    },
    "language_info": {
      "name": "python"
    }
  },
  "cells": [
    {
      "cell_type": "markdown",
      "metadata": {
        "id": "view-in-github",
        "colab_type": "text"
      },
      "source": [
        "<a href=\"https://colab.research.google.com/github/tleitchColumbia/C4RM/blob/main/qTmat.ipynb\" target=\"_parent\"><img src=\"https://colab.research.google.com/assets/colab-badge.svg\" alt=\"Open In Colab\"/></a>"
      ]
    },
    {
      "cell_type": "code",
      "execution_count": 2,
      "metadata": {
        "colab": {
          "base_uri": "https://localhost:8080/"
        },
        "id": "vQnulVtkwRbh",
        "outputId": "a658dc1b-5f74-41bc-a9fc-3833b7b52ba2"
      },
      "outputs": [
        {
          "output_type": "stream",
          "name": "stdout",
          "text": [
            "Test Passed: False\n"
          ]
        }
      ],
      "source": [
        "import numpy as np\n",
        "\n",
        "def TMAT1(vec1, vec2):\n",
        "    # Create a matrix from vec1 and vec2 according to your specific method\n",
        "    # your work here\n",
        "    mat = None  # Placeholder for student work\n",
        "\n",
        "    return mat\n",
        "\n",
        "# Unit Tests\n",
        "rLast = np.repeat(['A', 'B', 'C'], [3, 4, 5])\n",
        "rNow = np.repeat(['A', 'B', 'C'], [5, 2, 5])\n",
        "out = TMAT1(rLast, rNow)\n",
        "answer = np.array([1, 0, 0, 0.5, 0.5, 0, 0, 0, 1]).reshape(3, 3)\n",
        "\n",
        "print(\"Test Passed:\", np.array_equal(out, answer))\n"
      ]
    },
    {
      "cell_type": "code",
      "source": [
        "import numpy as np\n",
        "\n",
        "def Forecast_nPeriod(vec, tmat, n):\n",
        "    # Use a loop to multiply tmat by itself n times\n",
        "    # Placeholder for the student work:\n",
        "    out = np.eye(tmat.shape[0])  # Start with the identity matrix as neutral element for multiplication\n",
        "    out=tmat\n",
        "    for _ in range(n):\n",
        "        out = np.dot(out, tmat)  # Matrix multiplication\n",
        "\n",
        "    # Multiply the resulting matrix by the initial vector to get the state distribution n periods ahead\n",
        "    # Placeholder for the student work:\n",
        "    out = np.dot(vec, out)\n",
        "\n",
        "    return out\n",
        "\n",
        "# Example of setting up initial states and transition matrix\n",
        "rLast = np.repeat(['A', 'B', 'C'], [3, 4, 5])\n",
        "rNow = np.repeat(['A', 'B', 'C'], [5, 2, 5])\n",
        "\n",
        "# Transition matrix example (this would need to be defined according to the specific context or problem)\n",
        "# tmat = np.array([[0.8, 0.1, 0.1], [0.2, 0.7, 0.1], [0.1, 0.1, 0.8]])\n",
        "# n = 3\n",
        "\n",
        "# Example call to the function (uncomment and replace with actual values when ready)\n",
        "# out = Forecast_nPeriod(rNow, tmat, n)\n",
        "# print(out)\n"
      ],
      "metadata": {
        "id": "HAT05nIlxYD5"
      },
      "execution_count": 5,
      "outputs": []
    },
    {
      "cell_type": "code",
      "source": [
        "\n",
        "# Unit Tests:\n",
        "\n",
        "# Unit Tests:\n",
        "initialStates = np.array([[20, 30, 10]])  # Row vector in numpy\n",
        "tmat = np.array([[1, .5, 0], [0, .5, 0], [0, 0, 1]])  # 3x3 transition matrix\n",
        "\n",
        "states1 = Forecast_nPeriod(initialStates, tmat, 1)\n",
        "states2 = Forecast_nPeriod(initialStates, tmat, 2)\n",
        "states3 = Forecast_nPeriod(initialStates, tmat, 3)\n",
        "\n",
        "print(\"States after 1 period:\", states1)\n",
        "print(\"States after 2 periods:\", states2)\n",
        "print(\"States after 3 periods:\", states3)\n",
        "\n",
        "# Test to verify if states3[0] equals 46.25\n",
        "test_result = np.isclose(states3[0][0], 46.25)\n",
        "print(\"Test Passed:\", test_result)\n"
      ],
      "metadata": {
        "colab": {
          "base_uri": "https://localhost:8080/"
        },
        "id": "Z88vbKj9xlhq",
        "outputId": "3328e083-1ce9-45f3-fe07-1b136e207f77"
      },
      "execution_count": 7,
      "outputs": [
        {
          "output_type": "stream",
          "name": "stdout",
          "text": [
            "States after 1 period: [[20.  22.5 10. ]]\n",
            "States after 2 periods: [[20.   21.25 10.  ]]\n",
            "States after 3 periods: [[20.    20.625 10.   ]]\n",
            "Test Passed: False\n"
          ]
        }
      ]
    }
  ]
}